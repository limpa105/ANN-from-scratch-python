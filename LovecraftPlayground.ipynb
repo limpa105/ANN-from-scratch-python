{
  "nbformat": 4,
  "nbformat_minor": 0,
  "metadata": {
    "colab": {
      "name": "LovecraftPlayground.ipynb",
      "provenance": [],
      "collapsed_sections": [],
      "include_colab_link": true
    },
    "kernelspec": {
      "name": "python3",
      "display_name": "Python 3"
    },
    "language_info": {
      "name": "python"
    }
  },
  "cells": [
    {
      "cell_type": "markdown",
      "metadata": {
        "id": "view-in-github",
        "colab_type": "text"
      },
      "source": [
        "<a href=\"https://colab.research.google.com/github/limpa105/ANN-from-scratch-python/blob/main/LovecraftPlayground.ipynb\" target=\"_parent\"><img src=\"https://colab.research.google.com/assets/colab-badge.svg\" alt=\"Open In Colab\"/></a>"
      ]
    },
    {
      "cell_type": "code",
      "metadata": {
        "id": "pAbkN8PN0pUC",
        "colab": {
          "base_uri": "https://localhost:8080/"
        },
        "outputId": "e3b009e6-743e-4152-e66a-76d70687502e"
      },
      "source": [
        "import nltk\n",
        "import os\n",
        "nltk.download('stopwords')\n",
        "from nltk.corpus import stopwords\n",
        "nltk.download('punkt')\n",
        "!git clone https://github.com/vilmibm/lovecraftcorpus.git"
      ],
      "execution_count": 10,
      "outputs": [
        {
          "output_type": "stream",
          "text": [
            "[nltk_data] Downloading package stopwords to /root/nltk_data...\n",
            "[nltk_data]   Package stopwords is already up-to-date!\n",
            "[nltk_data] Downloading package punkt to /root/nltk_data...\n",
            "[nltk_data]   Package punkt is already up-to-date!\n",
            "fatal: destination path 'lovecraftcorpus' already exists and is not an empty directory.\n"
          ],
          "name": "stdout"
        }
      ]
    },
    {
      "cell_type": "code",
      "metadata": {
        "colab": {
          "base_uri": "https://localhost:8080/"
        },
        "id": "pYiGM8yhRS97",
        "outputId": "60dd9121-d237-43a1-e374-f0490161c6ae"
      },
      "source": [
        "for root, dirs, files in os.walk(\"/content/lovecraftcorpus\", topdown=False):\n",
        "  text = \"\"\n",
        "  if root == '/content/lovecraftcorpus':\n",
        "    for name in files:\n",
        "       print(name) \n",
        "       with open(root + \"/\" + name) as f:\n",
        "          data = f.read()\n",
        "          text += data\n",
        "          f.close()\n",
        "  with open ('all_lovecraft.txt', 'w') as w:\n",
        "      w.write(text)\n",
        "      w.close()\n"
      ],
      "execution_count": 32,
      "outputs": [
        {
          "output_type": "stream",
          "text": [
            "ulthar.txt\n",
            "cthulhu.txt\n",
            "cool_air.txt\n",
            "he.txt\n",
            "street.txt\n",
            "crawling_chaos.txt\n",
            "whisperer.txt\n",
            "gates_of_silver_key.txt\n",
            "charles_dexter_ward.txt\n",
            "redhook.txt\n",
            "martins_beach.txt\n",
            "dagon.txt\n",
            "poetry_of_gods.txt\n",
            "unnamable.txt\n",
            "mountains_of_madness.txt\n",
            "shunned_house.txt\n",
            "nyarlathotep.txt\n",
            "haunter.txt\n",
            "doorstep.txt\n",
            "polaris.txt\n",
            "lurking_fear.txt\n",
            "from_beyond.txt\n",
            "white_ship.txt\n",
            "memory.txt\n",
            "other_gods.txt\n",
            "colour_out_of_space.txt\n",
            "picture_house.txt\n",
            "celephais.txt\n",
            "descendent.txt\n",
            "beyond_wall_of_sleep.txt\n",
            "pharoahs.txt\n",
            "vault.txt\n",
            "tree.txt\n",
            "alchemist.txt\n",
            "iranon.txt\n",
            "high_house_mist.txt\n",
            "rats_walls.txt\n",
            "nameless.txt\n",
            "terrible_old_man.txt\n",
            "hypnos.txt\n",
            "silver_key.txt\n",
            "clergyman.txt\n",
            "outsider.txt\n",
            "hound.txt\n",
            "beast.txt\n",
            "moon_bog.txt\n",
            "what_moon_brings.txt\n",
            "tomb.txt\n",
            "pickman.txt\n",
            "README.md\n",
            "temple.txt\n",
            "sarnath.txt\n",
            "dunwich.txt\n",
            "innsmouth.txt\n",
            "azathoth.txt\n",
            "old_folk.txt\n",
            "erich_zann.txt\n",
            "randolph_carter.txt\n",
            "kadath.txt\n",
            "book.txt\n",
            "medusas_coil.txt\n",
            "reanimator.txt\n",
            "arthur_jermyn.txt\n",
            "festival.txt\n",
            "juan_romero.txt\n",
            "shadow_out_of_time.txt\n",
            "dreams_in_the_witch.txt\n",
            "ex_oblivione.txt\n"
          ],
          "name": "stdout"
        }
      ]
    },
    {
      "cell_type": "code",
      "metadata": {
        "id": "PIglHMnU02dA"
      },
      "source": [
        "textlink = 'lovecraftcorpus/innsmouth.txt'\n",
        "def get_most_common_words(textlink: str, n_most_common: int):\n",
        "  with open(textlink, 'r') as reader:\n",
        "    text = reader.read()\n",
        "  tokens = nltk.word_tokenize(text.lower())\n",
        "  stop_words = set(stopwords.words('english'))\n",
        "  non_stopwords = [token for token in tokens if token not in stop_words and token.isalnum()]\n",
        "  freq_dist = nltk.FreqDist(non_stopwords)\n",
        "  return freq_dist.most_common(n_most_common)\n",
        "\n"
      ],
      "execution_count": null,
      "outputs": []
    },
    {
      "cell_type": "code",
      "metadata": {
        "colab": {
          "base_uri": "https://localhost:8080/",
          "height": 1000
        },
        "id": "eXgz26E97Evn",
        "outputId": "cd729104-5d09-4404-a0dc-10ceebe53fba"
      },
      "source": [
        "import os\n",
        "files = os.listdir(os.getcwd()+ \"/\" + \"lovecraftcorpus\")\n",
        "for file in files:\n",
        "  print(file, get_most_common_words(\"lovecraftcorpus\" + \"/\" + file, 5))"
      ],
      "execution_count": null,
      "outputs": [
        {
          "output_type": "stream",
          "text": [
            "innsmouth.txt [('could', 112), ('would', 97), ('innsmouth', 89), ('one', 87), ('old', 76)]\n",
            "cthulhu.txt [('could', 38), ('one', 36), ('men', 34), ('professor', 32), ('cult', 30)]\n",
            "erich_zann.txt [('zann', 23), ('could', 20), ('old', 16), ('music', 14), ('heard', 14)]\n",
            "cool_air.txt [('room', 16), ('one', 12), ('might', 12), ('could', 12), ('air', 9)]\n",
            "reanimator.txt [('west', 132), ('could', 47), ('one', 39), ('thing', 37), ('life', 35)]\n",
            "haunter.txt [('blake', 65), ('church', 26), ('could', 26), ('dark', 24), ('hill', 24)]\n",
            "picture_house.txt [('man', 14), ('seemed', 13), ('ye', 12), ('like', 11), ('could', 11)]\n",
            "colour_out_of_space.txt [('ammi', 78), ('nahum', 67), ('could', 53), ('one', 42), ('well', 40)]\n",
            "street.txt [('street', 32), ('men', 27), ('many', 20), ('houses', 19), ('yet', 14)]\n",
            "nameless.txt [('city', 31), ('could', 24), ('nameless', 22), ('saw', 22), ('man', 15)]\n",
            "shunned_house.txt [('house', 59), ('street', 41), ('uncle', 39), ('one', 35), ('harris', 34)]\n",
            "randolph_carter.txt [('warren', 23), ('voice', 9), ('carter', 8), ('say', 8), ('thing', 8)]\n",
            "hypnos.txt [('friend', 23), ('never', 11), ('time', 10), ('eyes', 9), ('would', 9)]\n",
            "other_gods.txt [('gods', 43), ('barzai', 24), ('earth', 22), ('atal', 21), ('moon', 16)]\n",
            "crawling_chaos.txt [('could', 13), ('pounding', 13), ('land', 10), ('seemed', 10), ('sea', 9)]\n",
            "dagon.txt [('boat', 8), ('moon', 8), ('could', 7), ('day', 7), ('shall', 6)]\n",
            "what_moon_brings.txt [('moon', 10), ('saw', 8), ('dead', 7), ('stream', 4), ('waters', 4)]\n",
            "beyond_wall_of_sleep.txt [('slater', 28), ('could', 20), ('man', 18), ('would', 14), ('one', 12)]\n",
            "whisperer.txt [('akeley', 140), ('could', 105), ('one', 94), ('would', 76), ('things', 67)]\n",
            "terrible_old_man.txt [('old', 19), ('man', 16), ('terrible', 11), ('things', 6), ('ricci', 6)]\n",
            "tree.txt [('musides', 28), ('kalos', 25), ('grove', 10), ('tree', 9), ('olive', 9)]\n",
            "alchemist.txt [('upon', 22), ('old', 16), ('one', 15), ('yet', 13), ('curse', 13)]\n",
            "descendent.txt [('would', 12), ('man', 7), ('old', 7), ('williams', 7), ('northam', 7)]\n",
            "clergyman.txt [('seemed', 10), ('like', 9), ('know', 8), ('man', 8), ('saw', 8)]\n",
            "book.txt [('book', 6), ('read', 6), ('never', 5), ('saw', 5), ('strange', 4)]\n",
            "beast.txt [('cave', 16), ('upon', 12), ('beast', 10), ('could', 9), ('guide', 9)]\n",
            "festival.txt [('old', 29), ('saw', 16), ('one', 15), ('man', 14), ('town', 12)]\n",
            "poetry_of_gods.txt [('gods', 22), ('shall', 15), ('thou', 13), ('beauty', 9), ('thy', 8)]\n",
            "README.md [('corpus', 5), ('lovecraft', 2), ('come', 2), ('works', 1), ('largely', 1)]\n",
            "doorstep.txt [('edward', 66), ('asenath', 56), ('would', 49), ('could', 45), ('derby', 45)]\n",
            "redhook.txt [('malone', 41), ('suydam', 37), ('could', 25), ('red', 23), ('one', 23)]\n",
            "ulthar.txt [('cats', 18), ('ulthar', 12), ('old', 10), ('dark', 10), ('cat', 9)]\n",
            "mountains_of_madness.txt [('us', 144), ('one', 132), ('could', 130), ('lake', 109), ('would', 97)]\n",
            "temple.txt [('kienze', 21), ('could', 20), ('temple', 16), ('german', 15), ('sea', 14)]\n",
            "high_house_mist.txt [('olney', 21), ('kingsport', 19), ('old', 15), ('windows', 13), ('one', 12)]\n",
            "he.txt [('saw', 17), ('man', 15), ('ye', 12), ('new', 11), ('upon', 11)]\n",
            "dreams_in_the_witch.txt [('gilman', 102), ('could', 67), ('old', 53), ('would', 50), ('room', 47)]\n",
            "outsider.txt [('stone', 11), ('castle', 9), ('could', 9), ('upon', 8), ('yet', 8)]\n",
            "celephais.txt [('kuranes', 26), ('city', 15), ('sky', 12), ('celephais', 11), ('came', 11)]\n",
            "rats_walls.txt [('norrys', 32), ('rats', 31), ('could', 31), ('priory', 25), ('found', 20)]\n",
            "white_ship.txt [('man', 18), ('white', 14), ('land', 14), ('many', 12), ('bearded', 12)]\n",
            "silver_key.txt [('carter', 27), ('old', 26), ('things', 21), ('key', 19), ('found', 14)]\n",
            "moon_bog.txt [('bog', 24), ('barry', 21), ('kilderry', 15), ('castle', 14), ('night', 13)]\n",
            "nyarlathotep.txt [('nyarlathotep', 12), ('one', 5), ('could', 5), ('saw', 5), ('tell', 4)]\n",
            "polaris.txt [('star', 10), ('pole', 9), ('city', 9), ('strange', 7), ('save', 7)]\n",
            "unnamable.txt [('manton', 13), ('old', 13), ('house', 13), ('thing', 10), ('knew', 9)]\n",
            "juan_romero.txt [('romero', 21), ('one', 8), ('juan', 7), ('mine', 7), ('superintendent', 7)]\n"
          ],
          "name": "stdout"
        },
        {
          "output_type": "error",
          "ename": "IsADirectoryError",
          "evalue": "ignored",
          "traceback": [
            "\u001b[0;31m---------------------------------------------------------------------------\u001b[0m",
            "\u001b[0;31mIsADirectoryError\u001b[0m                         Traceback (most recent call last)",
            "\u001b[0;32m<ipython-input-49-34bb8ebd8dbe>\u001b[0m in \u001b[0;36m<module>\u001b[0;34m()\u001b[0m\n\u001b[1;32m      2\u001b[0m \u001b[0mfiles\u001b[0m \u001b[0;34m=\u001b[0m \u001b[0mos\u001b[0m\u001b[0;34m.\u001b[0m\u001b[0mlistdir\u001b[0m\u001b[0;34m(\u001b[0m\u001b[0mos\u001b[0m\u001b[0;34m.\u001b[0m\u001b[0mgetcwd\u001b[0m\u001b[0;34m(\u001b[0m\u001b[0;34m)\u001b[0m\u001b[0;34m+\u001b[0m \u001b[0;34m\"/\"\u001b[0m \u001b[0;34m+\u001b[0m \u001b[0;34m\"lovecraftcorpus\"\u001b[0m\u001b[0;34m)\u001b[0m\u001b[0;34m\u001b[0m\u001b[0;34m\u001b[0m\u001b[0m\n\u001b[1;32m      3\u001b[0m \u001b[0;32mfor\u001b[0m \u001b[0mfile\u001b[0m \u001b[0;32min\u001b[0m \u001b[0mfiles\u001b[0m\u001b[0;34m:\u001b[0m\u001b[0;34m\u001b[0m\u001b[0;34m\u001b[0m\u001b[0m\n\u001b[0;32m----> 4\u001b[0;31m   \u001b[0mprint\u001b[0m\u001b[0;34m(\u001b[0m\u001b[0mfile\u001b[0m\u001b[0;34m,\u001b[0m \u001b[0mget_most_common_words\u001b[0m\u001b[0;34m(\u001b[0m\u001b[0;34m\"lovecraftcorpus\"\u001b[0m \u001b[0;34m+\u001b[0m \u001b[0;34m\"/\"\u001b[0m \u001b[0;34m+\u001b[0m \u001b[0mfile\u001b[0m\u001b[0;34m,\u001b[0m \u001b[0;36m5\u001b[0m\u001b[0;34m)\u001b[0m\u001b[0;34m)\u001b[0m\u001b[0;34m\u001b[0m\u001b[0;34m\u001b[0m\u001b[0m\n\u001b[0m",
            "\u001b[0;32m<ipython-input-48-0c5b74192d5a>\u001b[0m in \u001b[0;36mget_most_common_words\u001b[0;34m(textlink, n_most_common)\u001b[0m\n\u001b[1;32m      1\u001b[0m \u001b[0mtextlink\u001b[0m \u001b[0;34m=\u001b[0m \u001b[0;34m'lovecraftcorpus/innsmouth.txt'\u001b[0m\u001b[0;34m\u001b[0m\u001b[0;34m\u001b[0m\u001b[0m\n\u001b[1;32m      2\u001b[0m \u001b[0;32mdef\u001b[0m \u001b[0mget_most_common_words\u001b[0m\u001b[0;34m(\u001b[0m\u001b[0mtextlink\u001b[0m\u001b[0;34m:\u001b[0m \u001b[0mstr\u001b[0m\u001b[0;34m,\u001b[0m \u001b[0mn_most_common\u001b[0m\u001b[0;34m:\u001b[0m \u001b[0mint\u001b[0m\u001b[0;34m)\u001b[0m\u001b[0;34m:\u001b[0m\u001b[0;34m\u001b[0m\u001b[0;34m\u001b[0m\u001b[0m\n\u001b[0;32m----> 3\u001b[0;31m   \u001b[0;32mwith\u001b[0m \u001b[0mopen\u001b[0m\u001b[0;34m(\u001b[0m\u001b[0mtextlink\u001b[0m\u001b[0;34m,\u001b[0m \u001b[0;34m'r'\u001b[0m\u001b[0;34m)\u001b[0m \u001b[0;32mas\u001b[0m \u001b[0mreader\u001b[0m\u001b[0;34m:\u001b[0m\u001b[0;34m\u001b[0m\u001b[0;34m\u001b[0m\u001b[0m\n\u001b[0m\u001b[1;32m      4\u001b[0m     \u001b[0mtext\u001b[0m \u001b[0;34m=\u001b[0m \u001b[0mreader\u001b[0m\u001b[0;34m.\u001b[0m\u001b[0mread\u001b[0m\u001b[0;34m(\u001b[0m\u001b[0;34m)\u001b[0m\u001b[0;34m\u001b[0m\u001b[0;34m\u001b[0m\u001b[0m\n\u001b[1;32m      5\u001b[0m   \u001b[0mtokens\u001b[0m \u001b[0;34m=\u001b[0m \u001b[0mnltk\u001b[0m\u001b[0;34m.\u001b[0m\u001b[0mword_tokenize\u001b[0m\u001b[0;34m(\u001b[0m\u001b[0mtext\u001b[0m\u001b[0;34m.\u001b[0m\u001b[0mlower\u001b[0m\u001b[0;34m(\u001b[0m\u001b[0;34m)\u001b[0m\u001b[0;34m)\u001b[0m\u001b[0;34m\u001b[0m\u001b[0;34m\u001b[0m\u001b[0m\n",
            "\u001b[0;31mIsADirectoryError\u001b[0m: [Errno 21] Is a directory: 'lovecraftcorpus/.git'"
          ]
        }
      ]
    },
    {
      "cell_type": "code",
      "metadata": {
        "id": "O7SM1qHp1ors"
      },
      "source": [
        "tokens = nltk.word_tokenize(text.lower())\n",
        "stopwords = set(stopwords.words('english'))"
      ],
      "execution_count": null,
      "outputs": []
    },
    {
      "cell_type": "code",
      "metadata": {
        "id": "mUjkoQJu3syR"
      },
      "source": [
        "non_stopwords = [token for token in tokens if token not in stopwords and token.isalnum()]\n"
      ],
      "execution_count": null,
      "outputs": []
    },
    {
      "cell_type": "code",
      "metadata": {
        "id": "ZFzbSUS34Rp0"
      },
      "source": [
        "freq_dist = nltk.FreqDist(non_stopwords)"
      ],
      "execution_count": null,
      "outputs": []
    },
    {
      "cell_type": "code",
      "metadata": {
        "colab": {
          "base_uri": "https://localhost:8080/"
        },
        "id": "I6VYm_-t28Kw",
        "outputId": "d619cf14-9ca5-499a-cfdc-7dd23b8e681f"
      },
      "source": [
        "freq_dist.most_common(50)"
      ],
      "execution_count": null,
      "outputs": [
        {
          "output_type": "execute_result",
          "data": {
            "text/plain": [
              "[('could', 112),\n",
              " ('would', 97),\n",
              " ('innsmouth', 89),\n",
              " ('one', 87),\n",
              " ('old', 76),\n",
              " ('street', 73),\n",
              " ('things', 58),\n",
              " ('like', 56),\n",
              " ('never', 54),\n",
              " ('saw', 54),\n",
              " ('seemed', 51),\n",
              " ('though', 49),\n",
              " ('obed', 47),\n",
              " ('town', 46),\n",
              " ('must', 43),\n",
              " ('people', 42),\n",
              " ('folks', 42),\n",
              " ('kind', 41),\n",
              " ('time', 40),\n",
              " ('seen', 39),\n",
              " ('door', 38),\n",
              " ('even', 37),\n",
              " ('toward', 37),\n",
              " ('see', 35),\n",
              " ('made', 34),\n",
              " ('around', 34),\n",
              " ('marsh', 34),\n",
              " ('come', 34),\n",
              " ('almost', 33),\n",
              " ('man', 33),\n",
              " ('water', 33),\n",
              " ('aout', 32),\n",
              " ('reef', 30),\n",
              " ('began', 30),\n",
              " ('open', 30),\n",
              " ('knew', 29),\n",
              " ('look', 29),\n",
              " ('night', 29),\n",
              " ('heard', 28),\n",
              " ('arkham', 28),\n",
              " ('thought', 28),\n",
              " ('back', 28),\n",
              " ('came', 27),\n",
              " ('get', 27),\n",
              " ('left', 26),\n",
              " ('long', 26),\n",
              " ('said', 26),\n",
              " ('might', 26),\n",
              " ('told', 26),\n",
              " ('place', 26)]"
            ]
          },
          "metadata": {
            "tags": []
          },
          "execution_count": 38
        }
      ]
    }
  ]
}